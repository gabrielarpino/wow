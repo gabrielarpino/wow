{
 "cells": [
  {
   "cell_type": "markdown",
   "metadata": {},
   "source": [
    "# Generating Random Polynomials\n",
    "\n",
    "Idea: What if do sort of a visual functional analysis? Hard to simulate inf dim vector spaces, but could try to sample functions in L1, L2, L3, ..., Linf, C0, and this might give some ideas. Polynomials is a subspace of L2 so can do that. Sequence spaces would be easier to sample, could do so algorithmically too. Essentially, need a representative space for each characteristic:\n",
    "* Lp spaces\n",
    "* lp spaces\n",
    "* complete, not complete\n",
    "* separable, not separable\n",
    "* meagre, not (pretty sure polynomial is meager?)\n",
    "* For a dense subspace, show that it approximates an element. \n",
    "* hilbert, not hilbert\n",
    "* convex, not convex?\n",
    "* Check how to represent a metric, can use rejection sampling to sample sequences close to another sequence etc. \n",
    "* Another random function that could use (and then check the optimization of it?) x^T W x where W GOE. \n",
    "* Random operators? (random matrices generalized) \n",
    "* Generate random functions from stochastic processes? \n",
    "* dual spaces? for the lp ones its easy I think. \n",
    "* Sample functions in certain lp spaces through rejection sampling. \n",
    "\n",
    "\n",
    "## lp spaces:\n",
    "Could sample these, point per point, but cant go to infinity ofc. benefit of Lp is that you can sample from [0,1] and you already get infinity built in. Rejection sampling idea for lp: sample points, sum them and see if they're below a certain threshold by the sum of the nth point. Not sure if infinite convergence can be described this way tho. Might have to do it on paper lmao."
   ]
  },
  {
   "cell_type": "code",
   "execution_count": 100,
   "metadata": {},
   "outputs": [],
   "source": [
    "import numpy as np\n",
    "from sympy import *\n",
    "import sympy as sym\n",
    "from multipledispatch import dispatch\n",
    "import matplotlib.pyplot as plt\n",
    "\n",
    "# import wow\n",
    "# from wow import *"
   ]
  },
  {
   "cell_type": "code",
   "execution_count": 10,
   "metadata": {},
   "outputs": [],
   "source": [
    "x = sym.Symbol('x')"
   ]
  },
  {
   "cell_type": "code",
   "execution_count": 11,
   "metadata": {},
   "outputs": [
    {
     "data": {
      "text/plain": [
       "sympy.core.mul.Mul"
      ]
     },
     "execution_count": 11,
     "metadata": {},
     "output_type": "execute_result"
    }
   ],
   "source": [
    "type(2 * x**2)"
   ]
  },
  {
   "cell_type": "code",
   "execution_count": 94,
   "metadata": {},
   "outputs": [],
   "source": [
    "D = 4\n",
    "poly = 0 * x\n",
    "for p in range(D+1):\n",
    "    poly += np.random.uniform(-1, 1) * (x**p)"
   ]
  },
  {
   "cell_type": "code",
   "execution_count": 95,
   "metadata": {},
   "outputs": [
    {
     "data": {
      "text/plain": [
       "0.597441710973871*x**4 + 0.252787680227572*x**3 + 0.124925626891032*x**2 - 0.0144364926663667*x + 0.325840335922745"
      ]
     },
     "execution_count": 95,
     "metadata": {},
     "output_type": "execute_result"
    }
   ],
   "source": [
    "poly"
   ]
  },
  {
   "cell_type": "code",
   "execution_count": 96,
   "metadata": {},
   "outputs": [],
   "source": [
    "f = lambdify(x, poly, \"math\")"
   ]
  },
  {
   "cell_type": "code",
   "execution_count": 97,
   "metadata": {},
   "outputs": [
    {
     "data": {
      "text/plain": [
       "function"
      ]
     },
     "execution_count": 97,
     "metadata": {},
     "output_type": "execute_result"
    }
   ],
   "source": [
    "type(f)"
   ]
  },
  {
   "cell_type": "code",
   "execution_count": 98,
   "metadata": {},
   "outputs": [
    {
     "data": {
      "text/plain": [
       "array([ 1.28655886, 12.37803868])"
      ]
     },
     "execution_count": 98,
     "metadata": {},
     "output_type": "execute_result"
    }
   ],
   "source": [
    "f(np.array([1.0, 2.0]))"
   ]
  },
  {
   "cell_type": "code",
   "execution_count": 99,
   "metadata": {},
   "outputs": [
    {
     "data": {
      "image/png": "[encoded data removed]",
      "text/plain": [
       "<Figure size 432x288 with 1 Axes>"
      ]
     },
     "metadata": {},
     "output_type": "display_data"
    }
   ],
   "source": [
    "xx = np.linspace(-1, 1)\n",
    "plt.plot(xx, f(xx), c='blue')\n",
    "plt.show()\n"
   ]
  },
  {
   "cell_type": "code",
   "execution_count": null,
   "metadata": {},
   "outputs": [],
   "source": []
  }
 ],
 "metadata": {
  "kernelspec": {
   "display_name": "Python 3",
   "language": "python",
   "name": "python3"
  },
  "language_info": {
   "codemirror_mode": {
    "name": "ipython",
    "version": 3
   },
   "file_extension": ".py",
   "mimetype": "text/x-python",
   "name": "python",
   "nbconvert_exporter": "python",
   "pygments_lexer": "ipython3",
   "version": "3.6.10"
  }
 },
 "nbformat": 4,
 "nbformat_minor": 4
}
